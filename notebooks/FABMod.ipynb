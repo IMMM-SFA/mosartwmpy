{
 "cells": [
  {
   "cell_type": "markdown",
   "id": "bfa099ed-8537-4bfd-9892-0851d2626e64",
   "metadata": {},
   "source": [
    "## Farmer Agent Based Model\n",
    "_Jim Yoon, Emily Rexer, & Travis Thurber_\n",
    "\n",
    "The Farmer Agent Based Model (`FABMod` eh eh?) integrates with `mosartwmpy` to model adaptive water demand based on crop economics.\n",
    "\n",
    "TODO: etc etc\n",
    "\n",
    "<br/>"
   ]
  },
  {
   "cell_type": "markdown",
   "id": "a2e5dbe4-f0a8-4a36-9df3-b60bb0490710",
   "metadata": {},
   "source": [
    "__TODO:__ consider if something like `nbdev` is a good option for `FABMod`\n",
    "\n",
    "<br/>"
   ]
  },
  {
   "cell_type": "code",
   "execution_count": null,
   "id": "86a6c21b-2f76-48c9-a61c-35608f8646bb",
   "metadata": {},
   "outputs": [],
   "source": [
    "import xarray as xr\n",
    "import pandas as pd\n",
    "import numpy as np\n",
    "import pickle"
   ]
  },
  {
   "cell_type": "code",
   "execution_count": null,
   "id": "9395f56f-ce89-42f6-8a3d-ed5f27557b4e",
   "metadata": {},
   "outputs": [],
   "source": [
    "# These input files come from `mosartwmpy`\n",
    "\n",
    "# Many-to-many relationships between GRanD Dam IDs and the grid cell IDs that can withdraw water from their reservoirs\n",
    "dependency_database_path = 'input/reservoirs/dependency_database.parquet'\n",
    "\n",
    "# Dam/reservoir parameters - in this case used to find which grid cell ID a particular GRanD Dam ID is located on\n",
    "reservoir_parameter_path = 'input/reservoirs/grand_reservoir_parameters.nc'\n",
    "\n",
    "# Output from `mosartwmpy` for the preceding year\n",
    "# TODO this should be provided live from wmpy\n",
    "simulation_output_path = 'output/istarf_validation/istarf_validation_1982*.nc'\n"
   ]
  },
  {
   "cell_type": "code",
   "execution_count": null,
   "id": "22f2aa85-96d2-48a2-86d9-8ece192291c1",
   "metadata": {},
   "outputs": [],
   "source": [
    "# These input files belong to `FABMod`\n",
    "# TODO they need to be consolidated into a single csv or parquet file\n",
    "\n",
    "# TODO what really is this?\n",
    "bias_correction_path = 'hist_avail_bias_correction_20201102.csv'\n",
    "\n",
    "# This file has the relationships between NLDAS ID and lat/lon\n",
    "# TODO perhaps we should just add the NLDAS IDs to the existing `mosartwmpy` domain file so that we don't need to use these\n",
    "nldas_path = 'nldas.txt'\n",
    "\n",
    "# This file has a list of NLDAS IDs that we care about\n",
    "nldas_ids_path = 'nldas_ids.p'\n",
    "\n",
    "# TODO what even is this?\n",
    "historic_storage_path = 'hist_dependent_storage.csv'\n"
   ]
  },
  {
   "cell_type": "markdown",
   "id": "a7f5a44e-bbcb-4be9-ac78-188b6b01110b",
   "metadata": {},
   "source": [
    "<br/>\n",
    "\n",
    "`mu` represents the memory decay rate of each agent; higher values indicate faster decay, i.e. 1 means only remember the preceding year."
   ]
  },
  {
   "cell_type": "code",
   "execution_count": null,
   "id": "6486074d-625e-4603-b15a-461c88c0921d",
   "metadata": {},
   "outputs": [],
   "source": [
    "mu = 0.2"
   ]
  },
  {
   "cell_type": "markdown",
   "id": "d3832a27-df53-44f4-b63c-7a3b9f565e83",
   "metadata": {},
   "source": [
    "<br/>\n",
    "\n",
    "Begin by loading the inputs into memory:"
   ]
  },
  {
   "cell_type": "code",
   "execution_count": null,
   "id": "f1a5bc58-cdae-4593-a773-ceaa41a584bf",
   "metadata": {},
   "outputs": [],
   "source": [
    "# Grid cell to consumable reservoirs\n",
    "dependency_database = pd.read_parquet(dependency_database_path)\n",
    "\n",
    "# Placement of reservoirs on the grid\n",
    "# TODO rather than use strings, need to read variable names from `mosartwmpy` config\n",
    "reservoir_parameters = xr.open_dataset(reservoir_parameter_path)[['GRAND_ID', 'GRID_CELL_INDEX']].to_dataframe()\n",
    "\n",
    "# Preceding year of `mosartwmpy` output, subset to the data `FABMod` needs and averaged over the whole year\n",
    "# TODO rather than use strings, need to read variable names from `mosartwmpy` config\n",
    "simulation_output = xr.open_mfdataset(simulation_output_path)[[\n",
    "    'GINDEX', 'WRM_STORAGE', 'WRM_SUPPLY', 'RIVER_DISCHARGE_OVER_LAND_LIQ'\n",
    "]].mean('time').to_dataframe().reset_index()\n",
    "\n",
    "# Bias correction\n",
    "# TODO what is it?\n",
    "bias_correction = pd.read_csv(bias_correction_path)\n",
    "\n",
    "# NLDAS IDs to lat/lon\n",
    "# TODO see above, should just include this in `mosartwmpy` domain\n",
    "nldas = pd.read_csv(nldas_path)\n",
    "\n",
    "# Historic storage\n",
    "# TODO what is it? Do we only need it during the warmup period?\n",
    "historic_storage = pd.read_csv(historic_storage_path)\n",
    "\n",
    "# NLDAS IDs we care about\n",
    "# TODO should just include this in a unified input file that excludes things we don't care about\n",
    "with open(nldas_ids_path, 'rb') as f:\n",
    "    nldas_ids = pickle.load(f)\n",
    "    "
   ]
  },
  {
   "cell_type": "markdown",
   "id": "20b19c58-2644-45b2-81eb-671e49ea5c05",
   "metadata": {},
   "source": [
    "<br/>\n",
    "\n",
    "Merge the reservoir grid cell locations into the dependency database."
   ]
  },
  {
   "cell_type": "code",
   "execution_count": null,
   "id": "f29200a8-d286-4e41-86e9-13c9fcdff723",
   "metadata": {},
   "outputs": [],
   "source": [
    "# TODO remember to rely on the `mosartwmpy` config file for variable names\n",
    "dependency_database = dependency_database.merge(reservoir_parameters, how='left', on='GRAND_ID').rename(columns={'GRID_CELL_INDEX': 'RESERVOIR_CELL_INDEX'})"
   ]
  },
  {
   "cell_type": "markdown",
   "id": "2c428158-5f6a-4219-8ff5-689d98320503",
   "metadata": {},
   "source": [
    "<br/>\n",
    "\n",
    "Find the total reservoir water volume each grid cell had access to:"
   ]
  },
  {
   "cell_type": "code",
   "execution_count": null,
   "id": "ae7f301f-e34c-4132-b930-fc89c3b05076",
   "metadata": {},
   "outputs": [],
   "source": [
    "# Merge the dependency database with the mean storage at reservoir locations, and aggregate per grid cell\n",
    "# TODO remember to rely on the `mosartwmpy` config file for variable names\n",
    "abm_data = dependency_database.merge(simulation_output[[\n",
    "    'GINDEX', 'WRM_STORAGE'\n",
    "]], how='left', left_on='RESERVOIR_CELL_INDEX', right_on='GINDEX').groupby('DEPENDENT_CELL_INDEX', as_index=False)[['WRM_STORAGE']].sum().rename(\n",
    "    columns={'WRM_STORAGE': 'STORAGE_SUM'}\n",
    ")"
   ]
  },
  {
   "cell_type": "markdown",
   "id": "d36d8cbc-60bf-4fe2-9795-0ac56283b6b6",
   "metadata": {},
   "source": [
    "<br/>\n",
    "\n",
    "Find the previous year's mean supply and flow for each grid cell:"
   ]
  },
  {
   "cell_type": "code",
   "execution_count": null,
   "id": "64c28e8f-7794-453c-b511-a4e2847ca41e",
   "metadata": {},
   "outputs": [],
   "source": [
    "# Merge in the mean supply and mean channel outflow from the simulation results per grid cell\n",
    "abm_data[[\n",
    "    'WRM_SUPPLY', 'RIVER_DISCHARGE_OVER_LAND_LIQ'\n",
    "]] =  abm_data[['DEPENDENT_CELL_INDEX']].merge(simulation_output[[\n",
    "    'GINDEX', 'WRM_SUPPLY', 'RIVER_DISCHARGE_OVER_LAND_LIQ'\n",
    "]], how='left', left_on='DEPENDENT_CELL_INDEX', right_on='GINDEX')[[\n",
    "    'WRM_SUPPLY', 'RIVER_DISCHARGE_OVER_LAND_LIQ'\n",
    "]]"
   ]
  },
  {
   "cell_type": "markdown",
   "id": "6cb0bb4d-8372-4ee5-a136-563177b06b59",
   "metadata": {},
   "source": [
    "<br/>\n",
    "\n",
    "Determine the NLDAS IDs for each grid cell:\n",
    "TODO this should just be part of the `mosartwmpy` domain file and/or the `mosartwmpy` output instead"
   ]
  },
  {
   "cell_type": "code",
   "execution_count": null,
   "id": "74e078c9-a919-403f-9b5b-ff6988c548bd",
   "metadata": {},
   "outputs": [],
   "source": [
    "# Merge the lat/lon\n",
    "abm_data[[\n",
    "    'lat', 'lon'\n",
    "]] = abm_data[['DEPENDENT_CELL_INDEX']].merge(simulation_output[[\n",
    "    'GINDEX', 'lat', 'lon'\n",
    "]], how='left', left_on='DEPENDENT_CELL_INDEX', right_on='GINDEX')[[\n",
    "    'lat', 'lon'\n",
    "]].round(4)\n",
    "\n",
    "# Merge the NLDAS_ID\n",
    "abm_data['NLDAS_ID'] = abm_data[['lat', 'lon']].merge(nldas[['CENTERY', 'CENTERX', 'NLDAS_ID']], left_on=['lat', 'lon'], right_on=['CENTERY', 'CENTERX'], how='left').NLDAS_ID"
   ]
  },
  {
   "cell_type": "markdown",
   "id": "7712d563-c979-4048-bddf-ba3a22600279",
   "metadata": {},
   "source": [
    "<br/>\n",
    "\n",
    "Subselect only the NLDAS IDs we care about:"
   ]
  },
  {
   "cell_type": "code",
   "execution_count": null,
   "id": "3f181dc6-18d7-4f30-8229-7ed7880f9c7d",
   "metadata": {},
   "outputs": [],
   "source": [
    "abm_data = abm_data.loc[abm_data.NLDAS_ID.isin(nldas_ids)]"
   ]
  },
  {
   "cell_type": "markdown",
   "id": "48c587c0-36c3-40f9-96da-d980caf7770c",
   "metadata": {},
   "source": [
    "<br/>\n",
    "\n",
    "Merge in the other `FABMod` calibration/initial condition data:\n",
    "\n",
    "TODO: figure out what is actually necessary during warmup vs after warmup (i.e. what data is live?)"
   ]
  },
  {
   "cell_type": "code",
   "execution_count": null,
   "id": "c6650435-d7ec-4abb-92d1-d39a228e5c8d",
   "metadata": {},
   "outputs": [],
   "source": [
    "# Merge historic storage\n",
    "abm_data['STORAGE_SUM_OG'] = abm_data[['NLDAS_ID']].merge(historic_storage[['NLDAS_ID','STORAGE_SUM_OG']], on='NLDAS_ID', how='left')[['STORAGE_SUM_OG']]"
   ]
  },
  {
   "cell_type": "code",
   "execution_count": null,
   "id": "3f7b96ae-22d5-44d9-b56f-c18cbfb8a9ea",
   "metadata": {},
   "outputs": [],
   "source": [
    "# Merge bias correction, original supply in acreft, and original channel outflow\n",
    "# TODO what are these\n",
    "abm_data[[\n",
    "    'sw_avail_bias_corr','WRM_SUPPLY_acreft_OG','RIVER_DISCHARGE_OVER_LAND_LIQ_OG'\n",
    "]] = abm_data[['NLDAS_ID']].merge(bias_correction[[\n",
    "    'NLDAS_ID','sw_avail_bias_corr','WRM_SUPPLY_acreft_OG','RIVER_DISCHARGE_OVER_LAND_LIQ_OG'\n",
    "]], on='NLDAS_ID', how='left')[[\n",
    "    'sw_avail_bias_corr','WRM_SUPPLY_acreft_OG','RIVER_DISCHARGE_OVER_LAND_LIQ_OG'\n",
    "]]\n",
    "# Rename original supply... TODO whatever for\n",
    "abm_data['WRM_SUPPLY_acreft_prev'] = abm_data['WRM_SUPPLY_acreft_OG']"
   ]
  },
  {
   "cell_type": "markdown",
   "id": "1d270d66-61c9-4bdf-9727-fb3115ce5247",
   "metadata": {},
   "source": [
    "<br/>\n",
    "\n",
    "Zero the missing data:\n",
    "\n",
    "TODO: is this acceptable or does it mask underlying problems??"
   ]
  },
  {
   "cell_type": "code",
   "execution_count": null,
   "id": "70cf0ecc-75ab-458f-bedf-793279349979",
   "metadata": {},
   "outputs": [],
   "source": [
    "abm_data = abm_data.fillna(0)"
   ]
  },
  {
   "cell_type": "markdown",
   "id": "a29805ff-019b-4b8d-a07a-8ccc5fbb0e19",
   "metadata": {},
   "source": [
    "<br/>\n",
    "\n",
    "Calculate a \"demand factor\" for each agent:\n",
    "\n",
    "TODO: Solicit Jim for better describing what this means"
   ]
  },
  {
   "cell_type": "code",
   "execution_count": null,
   "id": "01ac629e-4110-4479-be28-4d2139775b80",
   "metadata": {},
   "outputs": [],
   "source": [
    "abm_data['demand_factor'] = np.where(\n",
    "    abm_data['STORAGE_SUM_OG'] > 0,\n",
    "    abm_data['STORAGE_SUM'] / abm_data['STORAGE_SUM_OG'],\n",
    "    np.where(\n",
    "        abm_data['RIVER_DISCHARGE_OVER_LAND_LIQ_OG'] >= 0.1,\n",
    "        abm_data['RIVER_DISCHARGE_OVER_LAND_LIQ'] / abm_data['RIVER_DISCHARGE_OVER_LAND_LIQ_OG'],\n",
    "        1\n",
    "    )\n",
    ")"
   ]
  },
  {
   "cell_type": "markdown",
   "id": "d2073f1b-7014-4d51-8484-6877691c49ee",
   "metadata": {},
   "source": [
    "<br/>\n",
    "\n",
    "Calculate new stuff...\n",
    "\n",
    "TODO: Need Jim's help to understand what each variable means"
   ]
  },
  {
   "cell_type": "code",
   "execution_count": null,
   "id": "17571f44-a1fa-4228-92c5-945ed230d6dc",
   "metadata": {},
   "outputs": [],
   "source": [
    "# TODO\n",
    "abm_data['WRM_SUPPLY_acreft_newinfo'] = abm_data['demand_factor'] * abm_data['WRM_SUPPLY_acreft_OG']\n",
    "\n",
    "# TODO\n",
    "abm_data['WRM_SUPPLY_acreft_updated'] = ((1 - mu) * abm_data['WRM_SUPPLY_acreft_prev']) + (mu * abm_data['WRM_SUPPLY_acreft_newinfo'])\n",
    "\n",
    "# TODO\n",
    "abm_data['WRM_SUPPLY_acreft_prev'] = abm_data['WRM_SUPPLY_acreft_updated']\n",
    "\n",
    "# TODO\n",
    "abm_data['WRM_SUPPLY_acreft_bias_corr'] = abm_data['WRM_SUPPLY_acreft_updated'] + abm_data['sw_avail_bias_corr']"
   ]
  },
  {
   "cell_type": "markdown",
   "id": "09d9b4ec-757d-4464-a0a7-babe94c661e9",
   "metadata": {},
   "source": [
    "<br/>\n",
    "\n",
    "Finally, we have a bias corrected water supply estimate for each agent as a dictionary:\n",
    "\n",
    "TODO: Ask Jim what this really means"
   ]
  },
  {
   "cell_type": "code",
   "execution_count": null,
   "id": "31f96c73-882e-49a7-8460-9edbac56b05a",
   "metadata": {},
   "outputs": [],
   "source": [
    "# TODO did we lose the conversion from m3 to acreft somewhere? the bloody hell is an acreft?\n",
    "water_constraints_by_farm = abm_data['WRM_SUPPLY_acreft_bias_corr'].to_dict()\n",
    "abm_data['WRM_SUPPLY_acreft_bias_corr']"
   ]
  },
  {
   "cell_type": "markdown",
   "id": "d74d860d-2cf2-42ef-a110-628769de93e2",
   "metadata": {},
   "source": [
    "<br/>\n",
    "\n",
    "TODO: the rest of the stuff"
   ]
  },
  {
   "cell_type": "code",
   "execution_count": null,
   "id": "2ab00cd1-a2b4-4985-aef4-e8d3c71f6c67",
   "metadata": {},
   "outputs": [],
   "source": [
    "# TODO"
   ]
  },
  {
   "cell_type": "code",
   "execution_count": null,
   "id": "b688f9d8-8420-49ee-bd37-a1ca95d8b54a",
   "metadata": {},
   "outputs": [],
   "source": []
  }
 ],
 "metadata": {
  "kernelspec": {
   "display_name": "wmpy",
   "language": "python",
   "name": "wmpy"
  },
  "language_info": {
   "codemirror_mode": {
    "name": "ipython",
    "version": 3
   },
   "file_extension": ".py",
   "mimetype": "text/x-python",
   "name": "python",
   "nbconvert_exporter": "python",
   "pygments_lexer": "ipython3",
   "version": "3.9.5"
  }
 },
 "nbformat": 4,
 "nbformat_minor": 5
}
